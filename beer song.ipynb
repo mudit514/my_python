{
 "cells": [
  {
   "cell_type": "code",
   "execution_count": 2,
   "metadata": {},
   "outputs": [
    {
     "name": "stdout",
     "output_type": "stream",
     "text": [
      "10 bottles of beers on the wall\n",
      "10 bottles of beer\n",
      "take one down\n",
      "pass it around\n",
      "9 bottles of beer on the wall\n",
      "\n",
      "9 bottles of beers on the wall\n",
      "9 bottles of beer\n",
      "take one down\n",
      "pass it around\n",
      "8 bottles of beer on the wall\n",
      "\n",
      "8 bottles of beers on the wall\n",
      "8 bottles of beer\n",
      "take one down\n",
      "pass it around\n",
      "7 bottles of beer on the wall\n",
      "\n",
      "7 bottles of beers on the wall\n",
      "7 bottles of beer\n",
      "take one down\n",
      "pass it around\n",
      "6 bottles of beer on the wall\n",
      "\n",
      "6 bottles of beers on the wall\n",
      "6 bottles of beer\n",
      "take one down\n",
      "pass it around\n",
      "5 bottles of beer on the wall\n",
      "\n",
      "5 bottles of beers on the wall\n",
      "5 bottles of beer\n",
      "take one down\n",
      "pass it around\n",
      "4 bottles of beer on the wall\n",
      "\n",
      "4 bottles of beers on the wall\n",
      "4 bottles of beer\n",
      "take one down\n",
      "pass it around\n",
      "3 bottles of beer on the wall\n",
      "\n",
      "3 bottles of beers on the wall\n",
      "3 bottles of beer\n",
      "take one down\n",
      "pass it around\n",
      "2 bottles of beer on the wall\n",
      "\n",
      "2 bottles of beers on the wall\n",
      "2 bottles of beer\n",
      "take one down\n",
      "pass it around\n",
      "1 bottle of beer on the wall\n",
      "\n",
      "1 bottle of beers on the wall\n",
      "1 bottle of beer\n",
      "take one down\n",
      "pass it around\n",
      "no more bottles on the wall\n",
      "\n"
     ]
    }
   ],
   "source": [
    "word= \"bottles\"\n",
    "\n",
    "for beer_num in range(10,0,-1):\n",
    "    print(beer_num,word, \"of beers on the wall\")\n",
    "    print(beer_num,word,\"of beer\")\n",
    "    print(\"take one down\")\n",
    "    print(\"pass it around\")\n",
    "    if beer_num== 1:\n",
    "        print(\"no more bottles on the wall\")\n",
    "    else:\n",
    "        new_num=beer_num-1\n",
    "        if new_num==1:\n",
    "            word=\"bottle\"\n",
    "        print(new_num,word, \"of beer on the wall\")\n",
    "    print()    "
   ]
  },
  {
   "cell_type": "code",
   "execution_count": null,
   "metadata": {},
   "outputs": [],
   "source": []
  }
 ],
 "metadata": {
  "kernelspec": {
   "display_name": "Python 3",
   "language": "python",
   "name": "python3"
  },
  "language_info": {
   "codemirror_mode": {
    "name": "ipython",
    "version": 3
   },
   "file_extension": ".py",
   "mimetype": "text/x-python",
   "name": "python",
   "nbconvert_exporter": "python",
   "pygments_lexer": "ipython3",
   "version": "3.7.3"
  }
 },
 "nbformat": 4,
 "nbformat_minor": 2
}
